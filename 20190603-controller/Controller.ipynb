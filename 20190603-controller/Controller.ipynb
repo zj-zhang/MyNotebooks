{
 "cells": [
  {
   "cell_type": "markdown",
   "metadata": {},
   "source": [
    "# RNN Controller Implementation and Testing\n",
    "\n",
    "\n",
    "## Build controller\n",
    "We are testing a simple language DAG:\n",
    "\n",
    "| How | What | Why | --> | are | is | --> | I | you | it | --> | doing | going | coming |\n",
    "\n",
    "An agent acts like, \n",
    "- \"how are you doing\"=5, \n",
    "- \"how is it going\"=4, \n",
    "- \"what are you doing\"=2, \"what is it doing\"=2, \"why are you going\"=2\n",
    "- all others=-1"
   ]
  },
  {
   "cell_type": "markdown",
   "metadata": {},
   "source": [
    "First define the controller class:"
   ]
  },
  {
   "cell_type": "code",
   "execution_count": 1,
   "metadata": {},
   "outputs": [
    {
     "name": "stdout",
     "output_type": "stream",
     "text": [
      "--------------------------------------------------------------------------------\n",
      "Building ConvController\n",
      "--------------------------------------------------------------------------------\n",
      "Build controller sampler\n",
      "--------------------------------------------------------------------------------\n",
      "Build controller trainer\n",
      "--------------------------------------------------------------------------------\n",
      "<tf.Variable 'controller/lstm/lstm_layer_0/w:0' shape=(64, 128) dtype=float32_ref>\n",
      "<tf.Variable 'controller/lstm/lstm_layer_1/w:0' shape=(64, 128) dtype=float32_ref>\n",
      "<tf.Variable 'controller/g_emb:0' shape=(1, 32) dtype=float32_ref>\n",
      "<tf.Variable 'controller/emb/layer_0/w_start:0' shape=(3, 32) dtype=float32_ref>\n",
      "<tf.Variable 'controller/emb/layer_0/w_count:0' shape=(2, 32) dtype=float32_ref>\n",
      "<tf.Variable 'controller/emb/layer_1/w_start:0' shape=(2, 32) dtype=float32_ref>\n",
      "<tf.Variable 'controller/emb/layer_1/w_count:0' shape=(1, 32) dtype=float32_ref>\n",
      "<tf.Variable 'controller/emb/layer_2/w_start:0' shape=(3, 32) dtype=float32_ref>\n",
      "<tf.Variable 'controller/emb/layer_2/w_count:0' shape=(2, 32) dtype=float32_ref>\n",
      "<tf.Variable 'controller/emb/layer_3/w_start:0' shape=(3, 32) dtype=float32_ref>\n",
      "<tf.Variable 'controller/emb/layer_3/w_count:0' shape=(2, 32) dtype=float32_ref>\n",
      "<tf.Variable 'controller/softmax/layer_0/w_start:0' shape=(32, 3) dtype=float32_ref>\n",
      "<tf.Variable 'controller/softmax/layer_1/w_start:0' shape=(32, 2) dtype=float32_ref>\n",
      "<tf.Variable 'controller/softmax/layer_2/w_start:0' shape=(32, 3) dtype=float32_ref>\n",
      "<tf.Variable 'controller/softmax/layer_3/w_start:0' shape=(32, 3) dtype=float32_ref>\n",
      "<tf.Variable 'controller/attention/w_1:0' shape=(32, 32) dtype=float32_ref>\n",
      "<tf.Variable 'controller/attention/w_2:0' shape=(32, 32) dtype=float32_ref>\n",
      "<tf.Variable 'controller/attention/v:0' shape=(32, 1) dtype=float32_ref>\n"
     ]
    }
   ],
   "source": [
    "%matplotlib inline\n",
    "import warnings\n",
    "warnings.filterwarnings('ignore')\n",
    "\n",
    "from General_Controller import *\n",
    "controller=GeneralController()\n",
    "\n",
    "s = tf.Session()\n",
    "s.run(tf.global_variables_initializer())\n",
    "sample_arc = s.run(controller.sample_arc)\n",
    "feed_dict={\"arc_{}:0\".format(i):sample_arc[i] for i in range(controller.total_arc_len)}\n",
    "feed_dict[controller.reward] = 100."
   ]
  },
  {
   "cell_type": "markdown",
   "metadata": {},
   "source": [
    "Above prints out all trainable tensors for controller.\n",
    "\n",
    "If sampling 2 operations (start + count) on each layer:\n",
    "\n",
    "    layer 5 branch 1: 20 = 2 + 3 + 4 + 5 + 6\n",
    "\n",
    "    layer 4 branch 1: 14 = 2 + 3 + 4 + 5\n",
    "\n",
    "    layer 3 branch 1: 9 = 2 + 3 + 4\n",
    "\n",
    "    layer 2 branch 1: 5 = 2 + 3\n",
    "\n",
    "If sampling 1 operation on each layer:\n",
    "\n",
    "    layer 4 branch 1: 10 = 1 + 2 + 3 + 4\n",
    "    \n",
    "    layer 3 branch 1: 6 = 1 + 2 + 3\n",
    "\n",
    "    layer 2 branch 1: 3 = 1 + 2\n",
    "\n",
    "Next we randomly sampled a one-hot architecture sequence, then train it 200 times, to make sure the training is working."
   ]
  },
  {
   "cell_type": "code",
   "execution_count": 2,
   "metadata": {},
   "outputs": [
    {
     "name": "stdout",
     "output_type": "stream",
     "text": [
      "8.14814\n",
      "0.26225373\n"
     ]
    }
   ],
   "source": [
    "print(s.run(controller.onehot_log_prob, feed_dict=feed_dict))\n",
    "for _ in range(200):\n",
    "\ts.run(controller.train_op, feed_dict = feed_dict )\n",
    "\n",
    "print(s.run(controller.onehot_log_prob, feed_dict=feed_dict))"
   ]
  },
  {
   "cell_type": "code",
   "execution_count": 3,
   "metadata": {},
   "outputs": [
    {
     "name": "stdout",
     "output_type": "stream",
     "text": [
      "[2 0 0 1 1 1 0 1 1 0]\n",
      "[2 0 0 1 1 1 0 1 1 0]\n"
     ]
    }
   ],
   "source": [
    "print(sample_arc)\n",
    "print(s.run(controller.sample_arc))"
   ]
  },
  {
   "cell_type": "code",
   "execution_count": 4,
   "metadata": {},
   "outputs": [],
   "source": [
    "s.close()"
   ]
  },
  {
   "cell_type": "markdown",
   "metadata": {},
   "source": [
    "## Connect with agent\n",
    "\n",
    "The Agent emulates the language scenario depicted at the very beginning."
   ]
  },
  {
   "cell_type": "code",
   "execution_count": 5,
   "metadata": {
    "scrolled": true
   },
   "outputs": [
    {
     "name": "stdout",
     "output_type": "stream",
     "text": [
      "['How', 'are', 'I', 'doing']\n",
      "['How', 'are', 'I', 'going']\n",
      "['What', 'is', 'I', 'coming']\n",
      "['Why', 'is', 'it', 'doing']\n",
      "['What', 'is', 'you', 'coming']\n"
     ]
    }
   ],
   "source": [
    "from Agent import *\n",
    "dag = build_dag()\n",
    "for _ in range(5):\n",
    "    print(dag.get_random_model_states())"
   ]
  },
  {
   "cell_type": "code",
   "execution_count": 6,
   "metadata": {},
   "outputs": [],
   "source": [
    "agent = Agent(dag, default_score = -1.)\n",
    "agent.alter_path_score('How is it going', 4.)\n",
    "agent.alter_path_score('How are you doing', 5.)\n",
    "agent.alter_path_score('What are you doing', 2.)\n",
    "agent.alter_path_score('What is it doing', 2.)\n",
    "agent.alter_path_score('Why are you going', 2.)"
   ]
  },
  {
   "cell_type": "code",
   "execution_count": 7,
   "metadata": {},
   "outputs": [
    {
     "data": {
      "text/plain": [
       "5.0"
      ]
     },
     "execution_count": 7,
     "metadata": {},
     "output_type": "execute_result"
    }
   ],
   "source": [
    "agent.get_reward('How are you doing')"
   ]
  },
  {
   "cell_type": "code",
   "execution_count": 8,
   "metadata": {},
   "outputs": [
    {
     "name": "stdout",
     "output_type": "stream",
     "text": [
      "Why are you doing -1.0\n"
     ]
    }
   ],
   "source": [
    "print(agent.decode_arc_seq(sample_arc), agent.get_reward(agent.decode_arc_seq(sample_arc))) "
   ]
  },
  {
   "cell_type": "markdown",
   "metadata": {},
   "source": [
    "## Training\n",
    "Training by providing values to feed_dict."
   ]
  },
  {
   "cell_type": "code",
   "execution_count": 9,
   "metadata": {},
   "outputs": [
    {
     "name": "stdout",
     "output_type": "stream",
     "text": [
      "Why is you coming -0.9629505702227958\n",
      "How is you doing -0.9110569763081326\n",
      "How are you doing 0.3075094423039709\n",
      "Why is you doing -0.5199750381795547\n",
      "How are you coming -0.9991793227984813\n",
      "What are you coming -0.995771979731771\n",
      "What is you doing -0.5042092173937867\n",
      "How are you doing 3.473414344588296\n",
      "How are you doing 4.934380079258098\n"
     ]
    }
   ],
   "source": [
    "t = tf.Session()\n",
    "#t.run(tf.set_random_seed(1))\n",
    "t.run(tf.global_variables_initializer())\n",
    "ewa_reward = 0.\n",
    "buffer = []\n",
    "for i in range(1500):\n",
    "    if i and i%150==0:\n",
    "        print(agent.decode_arc_seq(buffer[-1][0]), ewa_reward)\n",
    "    arc = t.run(controller.sample_arc)\n",
    "    reward = agent.get_reward(agent.decode_arc_seq(arc))\n",
    "    feed_dict={\"arc_{}:0\".format(i):arc[i] for i in range(controller.total_arc_len)}\n",
    "    feed_dict[controller.reward] = reward\n",
    "    t.run(controller.train_op, feed_dict = feed_dict)\n",
    "    ewa_reward = 0.8*ewa_reward + 0.2*reward\n",
    "    buffer.append( (arc, reward) )"
   ]
  },
  {
   "cell_type": "markdown",
   "metadata": {},
   "source": [
    "## Understand Controller behaviors\n",
    "\n",
    "First examine the converged sentence:"
   ]
  },
  {
   "cell_type": "code",
   "execution_count": 10,
   "metadata": {},
   "outputs": [
    {
     "name": "stdout",
     "output_type": "stream",
     "text": [
      "522\n",
      "1499 What are you doing 2.0\n",
      "1479 How are you doing 5.0\n",
      "1459 How are you doing 5.0\n",
      "1438 How are you doing 5.0\n",
      "1418 How are you doing 5.0\n",
      "1398 How are you doing 5.0\n",
      "1378 How are you doing 5.0\n",
      "1357 How are you doing 5.0\n",
      "1337 How are you doing 5.0\n",
      "1317 How are you doing 5.0\n"
     ]
    }
   ],
   "source": [
    "idx = [i for i in range(len(buffer)) if buffer[i][1]>=0]\n",
    "print(len(idx))\n",
    "for i in range(1, 200, 20):\n",
    "    print(idx[-i], agent.decode_arc_seq(buffer[idx[-i]][0]), buffer[idx[-i]][1])\n",
    "    #print(agent.decode_arc_seq(buffer[-i][0]), buffer[-i][1])"
   ]
  },
  {
   "cell_type": "markdown",
   "metadata": {},
   "source": [
    "Next, plot the reward of sampled actions over time steps. After 1000 steps, it started to sampling on less diverged actions."
   ]
  },
  {
   "cell_type": "code",
   "execution_count": 13,
   "metadata": {},
   "outputs": [
    {
     "data": {
      "text/plain": [
       "Text(0,0.5,'SMA Reward')"
      ]
     },
     "execution_count": 13,
     "metadata": {},
     "output_type": "execute_result"
    },
    {
     "data": {
      "image/png": "[encoded data removed]",
      "text/plain": [
       "<Figure size 432x288 with 1 Axes>"
      ]
     },
     "metadata": {},
     "output_type": "display_data"
    }
   ],
   "source": [
    "import seaborn as sns\n",
    "import warnings\n",
    "warnings.filterwarnings('ignore')\n",
    "from BioNAS.utils.plots import sma\n",
    "sma_reward = sma([x[1] for x in buffer], window=100)\n",
    "ax1 = sns.scatterplot(x=np.arange(len(buffer)), y=sma_reward)\n",
    "ax1.set_xlabel('Step')\n",
    "ax1.set_ylabel('SMA Reward')"
   ]
  },
  {
   "cell_type": "markdown",
   "metadata": {},
   "source": [
    "The frequency of positive rewards are uniform before 1000; started to accumulated after 1000."
   ]
  },
  {
   "cell_type": "code",
   "execution_count": 14,
   "metadata": {},
   "outputs": [
    {
     "data": {
      "text/plain": [
       "Text(0,0.5,'Positive Reward Frequency')"
      ]
     },
     "execution_count": 14,
     "metadata": {},
     "output_type": "execute_result"
    },
    {
     "data": {
      "image/png": "[encoded data removed]",
      "text/plain": [
       "<Figure size 432x288 with 1 Axes>"
      ]
     },
     "metadata": {},
     "output_type": "display_data"
    }
   ],
   "source": [
    "ax2 = sns.distplot(idx)\n",
    "ax2.set_xlabel('Step')\n",
    "ax2.set_ylabel('Positive Reward Frequency')"
   ]
  }
 ],
 "metadata": {
  "kernelspec": {
   "display_name": "Python 3",
   "language": "python",
   "name": "python3"
  },
  "language_info": {
   "codemirror_mode": {
    "name": "ipython",
    "version": 3
   },
   "file_extension": ".py",
   "mimetype": "text/x-python",
   "name": "python",
   "nbconvert_exporter": "python",
   "pygments_lexer": "ipython3",
   "version": "3.6.5"
  }
 },
 "nbformat": 4,
 "nbformat_minor": 2
}
