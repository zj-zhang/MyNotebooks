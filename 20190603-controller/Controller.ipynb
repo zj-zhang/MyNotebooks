{
 "cells": [
  {
   "cell_type": "markdown",
   "metadata": {},
   "source": [
    "# RNN Controller Implementation and Testing\n",
    "\n",
    "We are testing a simple language DAG:\n",
    "\n",
    "| How | What | Why | --> | are | is | --> | I | you | it | --> | doing | going | coming |\n",
    "\n",
    "An agent acts like, \n",
    "- \"how is it going\"=1, \"how are you doing\"=1, \n",
    "- \"what are you doing\"=0, \"what is it doing\"=0, \"why are you going\"=0\n",
    "- all others=-1"
   ]
  },
  {
   "cell_type": "markdown",
   "metadata": {},
   "source": [
    "First define the controller class:"
   ]
  },
  {
   "cell_type": "code",
   "execution_count": 1,
   "metadata": {},
   "outputs": [
    {
     "name": "stderr",
     "output_type": "stream",
     "text": [
      "/home/zijun/Workspace/programs/anaconda3/lib/python3.6/site-packages/h5py/__init__.py:36: FutureWarning: Conversion of the second argument of issubdtype from `float` to `np.floating` is deprecated. In future, it will be treated as `np.float64 == np.dtype(float).type`.\n",
      "  from ._conv import register_converters as _register_converters\n"
     ]
    },
    {
     "name": "stdout",
     "output_type": "stream",
     "text": [
      "--------------------------------------------------------------------------------\n",
      "Building ConvController\n",
      "--------------------------------------------------------------------------------\n",
      "Build controller sampler\n",
      "--------------------------------------------------------------------------------\n",
      "Build controller trainer\n",
      "--------------------------------------------------------------------------------\n",
      "<tf.Variable 'controller/lstm/lstm_layer_0/w:0' shape=(64, 128) dtype=float32_ref>\n",
      "<tf.Variable 'controller/lstm/lstm_layer_1/w:0' shape=(64, 128) dtype=float32_ref>\n",
      "<tf.Variable 'controller/g_emb:0' shape=(1, 32) dtype=float32_ref>\n",
      "<tf.Variable 'controller/emb/layer_0/w_start:0' shape=(10, 32) dtype=float32_ref>\n",
      "<tf.Variable 'controller/emb/layer_0/w_count:0' shape=(9, 32) dtype=float32_ref>\n",
      "<tf.Variable 'controller/emb/layer_1/w_start:0' shape=(3, 32) dtype=float32_ref>\n",
      "<tf.Variable 'controller/emb/layer_1/w_count:0' shape=(2, 32) dtype=float32_ref>\n",
      "<tf.Variable 'controller/emb/layer_2/w_start:0' shape=(30, 32) dtype=float32_ref>\n",
      "<tf.Variable 'controller/emb/layer_2/w_count:0' shape=(29, 32) dtype=float32_ref>\n",
      "<tf.Variable 'controller/emb/layer_3/w_start:0' shape=(3, 32) dtype=float32_ref>\n",
      "<tf.Variable 'controller/emb/layer_3/w_count:0' shape=(2, 32) dtype=float32_ref>\n",
      "<tf.Variable 'controller/softmax/layer_0/w_start:0' shape=(32, 10) dtype=float32_ref>\n",
      "<tf.Variable 'controller/softmax/layer_0/w_count:0' shape=(32, 9) dtype=float32_ref>\n",
      "<tf.Variable 'controller/softmax/layer_1/w_start:0' shape=(32, 3) dtype=float32_ref>\n",
      "<tf.Variable 'controller/softmax/layer_1/w_count:0' shape=(32, 2) dtype=float32_ref>\n",
      "<tf.Variable 'controller/softmax/layer_2/w_start:0' shape=(32, 30) dtype=float32_ref>\n",
      "<tf.Variable 'controller/softmax/layer_2/w_count:0' shape=(32, 29) dtype=float32_ref>\n",
      "<tf.Variable 'controller/softmax/layer_3/w_start:0' shape=(32, 3) dtype=float32_ref>\n",
      "<tf.Variable 'controller/softmax/layer_3/w_count:0' shape=(32, 2) dtype=float32_ref>\n",
      "<tf.Variable 'controller/attention/w_1:0' shape=(32, 32) dtype=float32_ref>\n",
      "<tf.Variable 'controller/attention/w_2:0' shape=(32, 32) dtype=float32_ref>\n",
      "<tf.Variable 'controller/attention/v:0' shape=(32, 1) dtype=float32_ref>\n"
     ]
    }
   ],
   "source": [
    "from General_Controller import *\n",
    "controller=GeneralController()\n",
    "\n",
    "s = tf.Session()\n",
    "s.run(tf.global_variables_initializer())\n",
    "sample_arc = s.run(controller.sample_arc)\n",
    "feed_dict={\"arc_{}:0\".format(i):sample_arc[i] for i in range(controller.total_arc_len)}\n",
    "feed_dict[controller.reward] = 100."
   ]
  },
  {
   "cell_type": "markdown",
   "metadata": {},
   "source": [
    "layer 5 branch 1: 20 = 2 + 3 + 4 + 5 + 6\n",
    "\n",
    "layer 4 branch 1: 14 = 2 + 3 + 4 + 5\n",
    "\n",
    "layer 3 branch 1: 9 = 2 + 3 + 4\n",
    "\n",
    "layer 2 branch 1: 5 = 2 + 3\n"
   ]
  },
  {
   "cell_type": "code",
   "execution_count": 2,
   "metadata": {},
   "outputs": [
    {
     "name": "stdout",
     "output_type": "stream",
     "text": [
      "17.396227\n",
      "0.06607329\n"
     ]
    }
   ],
   "source": [
    "print(s.run(controller.onehot_log_prob, feed_dict=feed_dict))\n",
    "for _ in range(200):\n",
    "\ts.run(controller.train_op, feed_dict = feed_dict )\n",
    "\n",
    "print(s.run(controller.onehot_log_prob, feed_dict=feed_dict))\n"
   ]
  },
  {
   "cell_type": "code",
   "execution_count": 4,
   "metadata": {},
   "outputs": [
    {
     "name": "stdout",
     "output_type": "stream",
     "text": [
      "[ 2  4  1  2  0 17  1  0  0  2  1  0  0  0]\n",
      "[ 2  4  1  2  0 17  1  0  0  2  1  0  0  0]\n"
     ]
    }
   ],
   "source": [
    "print(sample_arc)\n",
    "print(s.run(controller.sample_arc))"
   ]
  },
  {
   "cell_type": "code",
   "execution_count": null,
   "metadata": {},
   "outputs": [],
   "source": []
  }
 ],
 "metadata": {
  "kernelspec": {
   "display_name": "Python 3",
   "language": "python",
   "name": "python3"
  },
  "language_info": {
   "codemirror_mode": {
    "name": "ipython",
    "version": 3
   },
   "file_extension": ".py",
   "mimetype": "text/x-python",
   "name": "python",
   "nbconvert_exporter": "python",
   "pygments_lexer": "ipython3",
   "version": "3.6.5"
  }
 },
 "nbformat": 4,
 "nbformat_minor": 2
}
