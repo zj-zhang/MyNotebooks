{
 "cells": [
  {
   "cell_type": "markdown",
   "metadata": {},
   "source": [
    "# CLAM.peakcaller eCLIP Analysis\n",
    "Date: June 26, 2018\n",
    "\n",
    "Author: Zijun Zhang\n",
    "\n",
    "## Introduction\n",
    "This notebook is to document the debugging process for CLAM.peakcaller.\n",
    "\n",
    "The problem is for certain genes/transcripts, the peak caller does not seem to call peaks even if visually the peak pattern looks convincing; i.e. the peak caller is not sensitive enough.\n",
    "\n",
    "In this debugging notebook, I will use the eCLIP data of Esrp1 in mouse (in-house data from Russ), and more specifically look at gene Lsm14b.\n",
    "\n",
    "The gene [Lsm14b](http://uswest.ensembl.org/Mus_musculus/Gene/Summary?db=core;g=ENSMUSG00000039108;r=2:180024987-180035465) is a strong candidate target of Esrp1, which harbors an Esrp1-repressed exon with Esrp1 motif upstream of the cassette exon. However, using CLAM.peakcaller on the individual CLIP-Input comparisons cannot identify signficant peaks.\n",
    "\n",
    "First define the file paths and gene of interest:"
   ]
  },
  {
   "cell_type": "code",
   "execution_count": 2,
   "metadata": {},
   "outputs": [],
   "source": [
    "from CLAM.peakcaller import *\n",
    "\n",
    "# debugging variables\n",
    "par_dir = \"/u/home/f/frankwoe/nobackup/RussCarstens_Lab/eclip/CLAM_ENCODE_Snakemake/\"\n",
    "gene_of_interest = \"ENSMUSG00000039108\"  # Lsm14b\n",
    "\n",
    "# peak-caller input variables; get this from `log.CLAM.txt`\n",
    "#ip_bam_list = [par_dir+'projects/ESRP1_mm10_GI/clam/Combo_Urea_CLIP/unique.sorted.bam']\n",
    "ip_bam_list = [par_dir+'projects/ESRP1_mm10_GI/clam/I925_FLAGCLIP/unique.sorted.bam']\n",
    "gtf_fp = '/u/nobackup/yxing/NOBACKUP/frankwoe/mm10/gencode.vM13.annotation.gtf'\n",
    "#con_bam_list = [par_dir+'projects/ESRP1_mm10_GI/clam/Combo_Urea_Input/unique.sorted.bam']\n",
    "con_bam_list = [par_dir+'projects/ESRP1_mm10_GI/clam/I925_Input/unique.sorted.bam']\n",
    "nthread = 1\n",
    "# change this as not to overwrite the existing results\n",
    "out_dir = par_dir+'projects/ESRP1_mm10_GI/clam/test'\n",
    "binsize = 50\n",
    "unique_only = True\n",
    "unstranded = False\n",
    "qval_cutoff = 0.5\n",
    "fold_change = [0.01]"
   ]
  },
  {
   "cell_type": "markdown",
   "metadata": {},
   "source": [
    "Now read in the GTF and open the bam files"
   ]
  },
  {
   "cell_type": "code",
   "execution_count": 3,
   "metadata": {},
   "outputs": [
    {
     "name": "stdout",
     "output_type": "stream",
     "text": [
      "['chr2', 180024987, 180035465, '+', 'ENSMUSG00000039108']\n",
      "chr2\t180031687\t180031737\tENSMUSG00000039108-1\t1000\t+\t1.23\t2.537e-01\t5.073e-01\t.\n",
      "chr2\t180032487\t180032537\tENSMUSG00000039108-2\t1000\t+\t0.31\t5.662e-01\t7.549e-01\t.\n",
      "chr2\t180034937\t180034987\tENSMUSG00000039108-3\t1000\t+\t1.10\t1.243e-01\t4.971e-01\t.\n",
      "\n"
     ]
    }
   ],
   "source": [
    "if con_bam_list is not None:\n",
    "    with_control = True\n",
    "else:\n",
    "    with_control = False\n",
    "if len(ip_bam_list)==1 and not unique_only:\n",
    "    logger.info('with only 1 bam file provided, i can only run --unique-only')\n",
    "    unique_only=True\n",
    "\n",
    "if nthread == 1:\n",
    "    # file handlers only for single-thread\n",
    "    bam_dict = make_bam_handler_dict(ip_bam_list, con_bam_list)\n",
    "\n",
    "gene_annot = read_gtf(gtf_fp)\n",
    "\n",
    "# print the gene of interest\n",
    "gene = gene_annot[gene_of_interest]\n",
    "print(gene)\n",
    "\n",
    "# confirm there are no peaks called:\n",
    "BED = call_gene_peak(bam_dict, gene, \n",
    "    unique_only=unique_only, with_control=with_control, \n",
    "    unstranded=unstranded, binsize=binsize, qval_cutoff=0.99, fold_change=fold_change)\n",
    "print(BED)"
   ]
  },
  {
   "cell_type": "markdown",
   "metadata": {},
   "source": [
    "## Examination of the eCLIP data: Lsm14b\n",
    "OK, so for the I925 FLAGCLIP-Input comparison, the tracks look like below. Apparently there should be at least two significant peaks, listed as -1 and -3 above. However, the p-value is too large. Next I will find out why, by running code snippets from CLAM.peakcaller."
   ]
  },
  {
   "cell_type": "code",
   "execution_count": 18,
   "metadata": {},
   "outputs": [
    {
     "data": {
      "image/png": "[encoded data removed]",
      "text/plain": [
       "<IPython.core.display.Image object>"
      ]
     },
     "execution_count": 18,
     "metadata": {},
     "output_type": "execute_result"
    }
   ],
   "source": [
    "from IPython.display import Image \n",
    "Image(filename='notebook-image/image00.png')"
   ]
  },
  {
   "cell_type": "code",
   "execution_count": 5,
   "metadata": {},
   "outputs": [
    {
     "name": "stdout",
     "output_type": "stream",
     "text": [
      "non-NA bins index and p-value\n",
      "(array([134, 150, 199, 200]),)\n",
      "[ 0.25367323  0.56616053  0.12427     1.        ]\n"
     ]
    }
   ],
   "source": [
    "# fetch the IP tag counts to gene regions\n",
    "if unique_only:\n",
    "    interval_ip = \\\n",
    "        count_gene_read_tags(bam_dict['ubam.ip'], gene, is_unique=True, unstranded=unstranded)\n",
    "else:\n",
    "    interval_ip = \\\n",
    "        count_gene_read_tags(bam_dict['ubam.ip'], gene, is_unique=True, unstranded=unstranded) + \\\n",
    "        count_gene_read_tags(bam_dict['mbam.ip'], gene, is_unique=False, unstranded=unstranded)\n",
    "# fetch/construct the input tag counts\n",
    "if with_control:\n",
    "    ## count control tags if available\n",
    "    if unique_only:\n",
    "        interval_con = \\\n",
    "            count_gene_read_tags(bam_dict['ubam.con'], gene, is_unique=True, unstranded=unstranded)\n",
    "    else:\n",
    "        interval_con = \\\n",
    "            count_gene_read_tags(bam_dict['ubam.con'], gene, is_unique=True, unstranded=unstranded) + \\\n",
    "            count_gene_read_tags(bam_dict['mbam.con'], gene, is_unique=False, unstranded=unstranded)\n",
    "else:\n",
    "    ## otherwise, construct a uniform *fake* control\n",
    "    interval_con = \\\n",
    "            np.ones((1, interval_ip.shape[1]))*np.sum(interval_ip)/interval_ip.shape[1]\n",
    "    #interval_con = np.empty(interval_ip.shape)\n",
    "    #for i in range(interval_ip.shape[0]):\n",
    "    #\tinterval_con[i, ] = \\\n",
    "    #\t\tnp.ones((interval_ip.shape[1]))*np.sum(interval_ip[i,])/interval_ip.shape[1]\n",
    "\n",
    "# bin tag counts into bins\n",
    "intv_bin_ip = bin_interval_counts(interval_ip, binsize=binsize)\n",
    "intv_bin_con = bin_interval_counts(interval_con, binsize=binsize)\n",
    "\n",
    "# perform statistical test\n",
    "signal_val, binscore_adj, binscore = test_bin_negbinom(intv_bin_ip, intv_bin_con, with_control=with_control)\n",
    "\n",
    "# print the index for the three candidate bins\n",
    "print(\"non-NA bins index and p-value\")\n",
    "print(np.where(~np.isnan(binscore)))\n",
    "print(binscore[np.where(~np.isnan(binscore))])\n"
   ]
  },
  {
   "cell_type": "markdown",
   "metadata": {},
   "source": [
    "These p-values are identical to the output when I ran it through the whole gene.\n",
    "\n",
    "Next I will examine the input count data and the optimization procedure of CLAM peak-caler Likelihood Ratio Test (LRT)."
   ]
  },
  {
   "cell_type": "code",
   "execution_count": 6,
   "metadata": {},
   "outputs": [
    {
     "name": "stdout",
     "output_type": "stream",
     "text": [
      "estimated inflation param:\n",
      "(array([ 0.01]), array([ 0.01]))\n"
     ]
    }
   ],
   "source": [
    "def _par_to_vec(par, data, is_constrained):\n",
    "    if is_constrained:\n",
    "        beta = par[0]\n",
    "        mu_vec = par[1::]\n",
    "        delta = 0\n",
    "    else:\n",
    "        beta, delta = par[0], par[1]\n",
    "        mu_vec = par[2::]\n",
    "    ip_counter = data['this_ip'].shape[0]\n",
    "    con_counter = data['this_con'].shape[0]\n",
    "    mu0 = np.asarray(mu_vec[0:con_counter])\n",
    "    mu1 = np.asarray(mu_vec[con_counter::])\n",
    "    lamb1_this = np.exp(mu1 + beta + delta)\n",
    "    lamb1_others = np.exp(mu1)\n",
    "    lamb0_this = np.exp(mu0 + beta)\n",
    "    lamb0_others = np.exp(mu0)\n",
    "    return (lamb1_this, lamb1_others, lamb0_this, lamb0_others)\n",
    "\n",
    "def _negative_binom_logpmf(y, mu, alpha):\n",
    "    y  = np.asarray(y)\n",
    "    ll = np.empty(len(y))\n",
    "    for i in range(len(y)):\n",
    "        alpha_inv = 1.0/alpha[i]\n",
    "        alpha_mu = float(alpha[i] * mu[i])\n",
    "        ll[i] = y[i]* np.log(alpha_mu/(1+alpha_mu))- \\\n",
    "            alpha_inv*np.log(1+alpha_mu)\n",
    "    return ll\n",
    "\n",
    "def _neg_loglik_unconstrain(par, data):\n",
    "    (l1, l2, l3, l4) = _par_to_vec(par, data, False)\n",
    "    ll = np.sum( _negative_binom_logpmf(data['this_ip'], mu=l1, alpha=alpha_ip_vec))\n",
    "    ll += np.sum( _negative_binom_logpmf(data['others_ip'], mu=l2, alpha=alpha_ip_vec))\n",
    "    ll += np.sum( _negative_binom_logpmf(data['this_con'], mu=l3, alpha=alpha_con_vec))\n",
    "    ll += np.sum( _negative_binom_logpmf(data['others_con'], mu=l4, alpha=alpha_con_vec))\n",
    "    return -ll\n",
    "\n",
    "def _neg_loglik_constrain(par, data):\n",
    "    (l1, l2, l3, l4) = _par_to_vec(par, data, True)\n",
    "    ll = np.sum(_negative_binom_logpmf(data['this_ip'], mu=l1, alpha=alpha_ip_vec)) + \\\n",
    "        np.sum(_negative_binom_logpmf(data['others_ip'], mu=l2, alpha=alpha_ip_vec)) + \\\n",
    "        np.sum(_negative_binom_logpmf(data['this_con'], mu=l3, alpha=alpha_con_vec)) + \\\n",
    "        np.sum(_negative_binom_logpmf(data['others_con'], mu=l4, alpha=alpha_con_vec))\n",
    "    return -ll\n",
    "\n",
    "intv_counter = intv_bin_ip.shape[1]\n",
    "assert intv_counter == intv_bin_con.shape[1]\n",
    "binscore = np.empty(intv_counter)\n",
    "binsignal = np.empty(intv_counter, dtype='S50')\n",
    "alpha_ip_vec = np.empty(intv_bin_ip.shape[0])\n",
    "alpha_con_vec = np.empty(intv_bin_con.shape[0])\n",
    "ip_sum = np.apply_along_axis(np.sum, 1, intv_bin_ip)\n",
    "con_sum = np.apply_along_axis(np.sum, 1, intv_bin_con)\n",
    "# compute the dispersion parameters\n",
    "min_alpha = 0.001 ## small alpha reduces to Poisson\n",
    "max_alpha = 0.01   ## large alpha costs loss of power\n",
    "if with_control:\n",
    "    for i in range(intv_bin_con.shape[0]):\n",
    "        height = ztnb_em.collapse_data(np.floor(intv_bin_con[i,]))\n",
    "        height[0] = 0\n",
    "        try:\n",
    "            ll, mu, alpha = ztnb_em.EM_estim_params(height, max_iter=10, verbose=False)\n",
    "        except:   ## means truncated loglik=0, not enough data\n",
    "            alpha = max_alpha\n",
    "        alpha = max_alpha if alpha>max_alpha else alpha\n",
    "        alpha = min_alpha if alpha<min_alpha else alpha\n",
    "        alpha_con_vec[i] = alpha\n",
    "    ## update alpha bounds based on control\n",
    "    ## not until we have a better alpha estimate...  zijun 9.7.2017\n",
    "    #max_alpha = np.min([ max_alpha, np.max(alpha_con_vec) ] )\n",
    "    #min_alpha = np.max([ min_alpha, np.min(alpha_con_vec) ] )\n",
    "\n",
    "\n",
    "for i in range(intv_bin_ip.shape[0]):\n",
    "    height = ztnb_em.collapse_data(np.floor(intv_bin_ip[i,]))\n",
    "    height[0] = 0\n",
    "    if np.sum(height.values())>0:\n",
    "        try:\n",
    "            ll, mu, alpha = ztnb_em.EM_estim_params(height, max_iter=10, verbose=False)\n",
    "        except:\n",
    "            alpha = max_alpha\n",
    "    else:\n",
    "        alpha = max_alpha\n",
    "    ## bound IP alpha by background max alpha\n",
    "    ## because IP can be very sparse compared to control,\n",
    "    ## as a result, alpha estimate can be quite off\n",
    "    alpha = max_alpha if alpha>max_alpha else alpha\n",
    "    alpha = min_alpha if alpha<min_alpha else alpha\n",
    "    alpha_ip_vec[i] = alpha\n",
    "# use the same dispersion if using *fake* control\n",
    "if not with_control:\n",
    "    alpha_con_vec = np.asarray(alpha_ip_vec)\n",
    "\n",
    "pseudo_count = 1.\n",
    "beta_bound = np.log(pseudo_count/np.min(np.concatenate([ip_sum, con_sum])))\n",
    "\n",
    "print(\"estimated inflation param:\")\n",
    "print(alpha_ip_vec, alpha_con_vec)"
   ]
  },
  {
   "cell_type": "markdown",
   "metadata": {},
   "source": [
    "After initialized peak-calling related statistical functions, look at the first bin, i=134,"
   ]
  },
  {
   "cell_type": "code",
   "execution_count": 7,
   "metadata": {},
   "outputs": [
    {
     "name": "stdout",
     "output_type": "stream",
     "text": [
      "{'others_con': array([ 5.]), 'this_con': array([ 1.]), 'others_ip': array([ 16.]), 'this_ip': array([ 11.])}\n"
     ]
    }
   ],
   "source": [
    "i=134\n",
    "this_ip = intv_bin_ip[:, i]\n",
    "others_ip = ip_sum - this_ip\n",
    "this_con = intv_bin_con[:, i]\n",
    "others_con = con_sum - this_con\n",
    "data = {\n",
    "        'this_ip':np.floor(this_ip),\n",
    "        'others_ip':np.floor(others_ip),\n",
    "        'this_con':np.floor(this_con),\n",
    "        'others_con':np.floor(others_con)\n",
    "    }\n",
    "print(data)"
   ]
  },
  {
   "cell_type": "markdown",
   "metadata": {},
   "source": [
    "Looking at the data, it does seem very \"insignificant\". This can further be confirmed by a simple Fisher test:"
   ]
  },
  {
   "cell_type": "code",
   "execution_count": 16,
   "metadata": {},
   "outputs": [
    {
     "name": "stdout",
     "output_type": "stream",
     "text": [
      "The rpy2.ipython extension is already loaded. To reload it, use:\n",
      "  %reload_ext rpy2.ipython\n"
     ]
    },
    {
     "data": {
      "text/plain": [
       "     [,1] [,2]\n",
       "[1,]    5   16\n",
       "[2,]    1   11\n"
      ]
     },
     "metadata": {},
     "output_type": "display_data"
    },
    {
     "data": {
      "text/plain": [
       "\n",
       "\tFisher's Exact Test for Count Data\n",
       "\n",
       "data:  d\n",
       "p-value = 0.2695\n",
       "alternative hypothesis: true odds ratio is greater than 1\n",
       "95 percent confidence interval:\n",
       " 0.404021      Inf\n",
       "sample estimates:\n",
       "odds ratio \n",
       "  3.327378 \n",
       "\n"
      ]
     },
     "metadata": {},
     "output_type": "display_data"
    }
   ],
   "source": [
    "%load_ext rpy2.ipython\n",
    "%R d = matrix(c(5,1,16,11), nrow=2); print(d)\n",
    "%R print(fisher.test(d, alternative='greater'))"
   ]
  },
  {
   "cell_type": "markdown",
   "metadata": {},
   "source": [
    "The Fisher test p-value (0.27) is very close to CLAM.peakcaller reported LRT p-value (0.25). Hence we can confirm that the CLAM.peakcaller is working normally in terms of statistics given the observed data.\n",
    "\n",
    "Now the problem becomes: do we expect to observe such a pattern under our model assumptions and our understanding of the experimental procedure(or, the data generating process in statistical terms)?\n",
    "\n",
    "Not really. The eCLIP Size-Matched Input (SMInput) represents an unbiased (well, actually biased by crosslinking bias, which is a good thing in this case) coverage *sampling* of the RBP-RNA cross-linked regions, a procedure with UV crosslinking but without any antibody selection. Imagine the eCLIP SMInput sample as a blindly/randomly sampling of building blocks (RBPs) in a long bench (RNA transcript), while the IP sample is sampling blocks of a specific colour, say red blocks. \n",
    "\n",
    "Ideally, if there is a big pile of red blocks in IP sample at certain locations of the bench, that indicates there should be some blocks being blind-sampled in the SMInput as well. That is, if we see any enriched read coverage in IP sample, there should be at least some coverages in the SMInput sample. \n",
    "\n",
    "This was not the case in the I925 CLIP-Input comparison (see the track figure above). What could have happened to cause this? My guess is: **_dropout_**. Because eCLIP SMInput only uses 2% of the cross-linked RNA sample, some random regions are not sampled at all. This is detrimental to an enrichment-based peak-caller, like the current peak-caller version of [CLAM](https://github.com/zj-zhang/CLAM-BleedingEdge).\n",
    "\n",
    "Next I will try to resolve this by integrating multiple replicates."
   ]
  },
  {
   "cell_type": "markdown",
   "metadata": {},
   "source": [
    "## Integrating multiple replicates\n",
    "\n",
    "The idea of using multiple replicates is based on the assumption that the dropout pattern is random, hence doing multiple trials have a higher chance to see the full picture. If the dropout is not random, i.e. some regions are not tangible by SMInput strategy, this will not solve the issue.\n",
    "\n",
    "First, I add all SMInput (n=4) to the model, and test that against I925 FLAGCLIP:"
   ]
  },
  {
   "cell_type": "code",
   "execution_count": 9,
   "metadata": {},
   "outputs": [
    {
     "name": "stdout",
     "output_type": "stream",
     "text": [
      "('beta_bound', -1.791759469228055)\n",
      "estimated inflation param:\n",
      "(array([ 0.01]), array([ 0.01      ,  0.00862939,  0.01      ,  0.01      ]))\n"
     ]
    }
   ],
   "source": [
    "# bam list is a two-element list, 1st element is unique bam\n",
    "# 2nd element is realigned multi-bam. Feed multiple files by\n",
    "# separating them by comma. E.g.:\n",
    "# ip_bam_list: ['IP_sam1,IP_sam2,..', 'IP.m_sam1,IP.m_sam2,..']\n",
    "ip_bam_list = [par_dir+'projects/ESRP1_mm10_GI/clam/I925_FLAGCLIP/unique.sorted.bam']\n",
    "con_bam_list = [\n",
    "    ','.join([\n",
    "        par_dir+'projects/ESRP1_mm10_GI/clam/I925_Input/unique.sorted.bam',\n",
    "        par_dir+'projects/ESRP1_mm10_GI/clam/I922_Input/unique.sorted.bam',\n",
    "        par_dir+'projects/ESRP1_mm10_GI/clam/I920_Input/unique.sorted.bam',\n",
    "        par_dir+'projects/ESRP1_mm10_GI/clam/Combo_Urea_Input/unique.sorted.bam',\n",
    "        ])\n",
    "    ]\n",
    "\n",
    "# open new file handlers in a dict\n",
    "bam_dict = make_bam_handler_dict(ip_bam_list, con_bam_list)\n",
    "\n",
    "# get read counts\n",
    "if unique_only:\n",
    "    interval_ip = \\\n",
    "        count_gene_read_tags(bam_dict['ubam.ip'], gene, is_unique=True, unstranded=unstranded)\n",
    "else:\n",
    "    interval_ip = \\\n",
    "        count_gene_read_tags(bam_dict['ubam.ip'], gene, is_unique=True, unstranded=unstranded) + \\\n",
    "        count_gene_read_tags(bam_dict['mbam.ip'], gene, is_unique=False, unstranded=unstranded)\n",
    "# fetch/construct the input tag counts\n",
    "if with_control:\n",
    "    ## count control tags if available\n",
    "    if unique_only:\n",
    "        interval_con = \\\n",
    "            count_gene_read_tags(bam_dict['ubam.con'], gene, is_unique=True, unstranded=unstranded)\n",
    "    else:\n",
    "        interval_con = \\\n",
    "            count_gene_read_tags(bam_dict['ubam.con'], gene, is_unique=True, unstranded=unstranded) + \\\n",
    "            count_gene_read_tags(bam_dict['mbam.con'], gene, is_unique=False, unstranded=unstranded)\n",
    "else:\n",
    "    ## otherwise, construct a uniform *fake* control\n",
    "    interval_con = \\\n",
    "            np.ones((1, interval_ip.shape[1]))*np.sum(interval_ip)/interval_ip.shape[1]\n",
    "    #interval_con = np.empty(interval_ip.shape)\n",
    "    #for i in range(interval_ip.shape[0]):\n",
    "    #\tinterval_con[i, ] = \\\n",
    "    #\t\tnp.ones((interval_ip.shape[1]))*np.sum(interval_ip[i,])/interval_ip.shape[1]\n",
    "\n",
    "# bin tag counts into bins\n",
    "intv_bin_ip = bin_interval_counts(interval_ip, binsize=binsize)\n",
    "intv_bin_con = bin_interval_counts(interval_con, binsize=binsize)\n",
    "\n",
    "# re-estimate inflation alpha\n",
    "intv_counter = intv_bin_ip.shape[1]\n",
    "assert intv_counter == intv_bin_con.shape[1]\n",
    "binscore = np.empty(intv_counter)\n",
    "binsignal = np.empty(intv_counter, dtype='S50')\n",
    "alpha_ip_vec = np.empty(intv_bin_ip.shape[0])\n",
    "alpha_con_vec = np.empty(intv_bin_con.shape[0])\n",
    "ip_sum = np.apply_along_axis(np.sum, 1, intv_bin_ip)\n",
    "con_sum = np.apply_along_axis(np.sum, 1, intv_bin_con)\n",
    "# compute the dispersion parameters\n",
    "min_alpha = 0.001 ## small alpha reduces to Poisson\n",
    "max_alpha = 0.01   ## large alpha costs loss of power\n",
    "if with_control:\n",
    "    for i in range(intv_bin_con.shape[0]):\n",
    "        height = ztnb_em.collapse_data(np.floor(intv_bin_con[i,]))\n",
    "        height[0] = 0\n",
    "        try:\n",
    "            ll, mu, alpha = ztnb_em.EM_estim_params(height, max_iter=10, verbose=False)\n",
    "        except:   ## means truncated loglik=0, not enough data\n",
    "            alpha = max_alpha\n",
    "        alpha = max_alpha if alpha>max_alpha else alpha\n",
    "        alpha = min_alpha if alpha<min_alpha else alpha\n",
    "        alpha_con_vec[i] = alpha\n",
    "    ## update alpha bounds based on control\n",
    "    ## not until we have a better alpha estimate...  zijun 9.7.2017\n",
    "    #max_alpha = np.min([ max_alpha, np.max(alpha_con_vec) ] )\n",
    "    #min_alpha = np.max([ min_alpha, np.min(alpha_con_vec) ] )\n",
    "\n",
    "\n",
    "for i in range(intv_bin_ip.shape[0]):\n",
    "    height = ztnb_em.collapse_data(np.floor(intv_bin_ip[i,]))\n",
    "    height[0] = 0\n",
    "    if np.sum(height.values())>0:\n",
    "        try:\n",
    "            ll, mu, alpha = ztnb_em.EM_estim_params(height, max_iter=10, verbose=False)\n",
    "        except:\n",
    "            alpha = max_alpha\n",
    "    else:\n",
    "        alpha = max_alpha\n",
    "    ## bound IP alpha by background max alpha\n",
    "    ## because IP can be very sparse compared to control,\n",
    "    ## as a result, alpha estimate can be quite off\n",
    "    alpha = max_alpha if alpha>max_alpha else alpha\n",
    "    alpha = min_alpha if alpha<min_alpha else alpha\n",
    "    alpha_ip_vec[i] = alpha\n",
    "# use the same dispersion if using *fake* control\n",
    "if not with_control:\n",
    "    alpha_con_vec = np.asarray(alpha_ip_vec)\n",
    "\n",
    "pseudo_count = 1.\n",
    "beta_bound = np.log(pseudo_count/np.min(np.concatenate([ip_sum, con_sum])))\n",
    "\n",
    "print('beta_bound', beta_bound)\n",
    "print(\"estimated inflation param:\")\n",
    "print(alpha_ip_vec, alpha_con_vec)"
   ]
  },
  {
   "cell_type": "code",
   "execution_count": 10,
   "metadata": {},
   "outputs": [
    {
     "name": "stdout",
     "output_type": "stream",
     "text": [
      "{'others_con': array([  5.,  11.,   8.,  10.]), 'this_con': array([ 1.,  0.,  0.,  0.]), 'others_ip': array([ 16.]), 'this_ip': array([ 11.])}\n",
      "('delta_mle', 1.4170600665189506)\n",
      "('pvalue:', 0.0022429316374342756)\n"
     ]
    }
   ],
   "source": [
    "i=134\n",
    "this_ip = intv_bin_ip[:, i]\n",
    "others_ip = ip_sum - this_ip\n",
    "this_con = intv_bin_con[:, i]\n",
    "others_con = con_sum - this_con\n",
    "data = {\n",
    "        'this_ip':np.floor(this_ip),\n",
    "        'others_ip':np.floor(others_ip),\n",
    "        'this_con':np.floor(this_con),\n",
    "        'others_con':np.floor(others_con)\n",
    "    }\n",
    "print(data)\n",
    "\n",
    "## constrained likelihood\n",
    "res_constrain = optimize.minimize(\n",
    "        x0=np.ones(1+this_ip.shape[0]+this_con.shape[0]), # beta + mu_vec \n",
    "        fun=_neg_loglik_constrain,\n",
    "        args=(data),\n",
    "        method='l-bfgs-b',\n",
    "        bounds = [(beta_bound, abs(beta_bound) )]+[(0.1,10)]*(this_ip.shape[0]+this_con.shape[0]),\n",
    "        options={'disp':False}\n",
    "    )\n",
    "## unconstrained likelihood\n",
    "res_unconstrain = optimize.minimize(\n",
    "        x0=np.ones(2+this_ip.shape[0]+this_con.shape[0]), # beta + delta + mu_vec\n",
    "        fun=_neg_loglik_unconstrain,\n",
    "        args=(data),\n",
    "        method='l-bfgs-b',\n",
    "        bounds = [(beta_bound, abs(beta_bound))] + [(-100,100)] + [(0.1,10)]*(this_ip.shape[0]+this_con.shape[0]),\n",
    "        options={'disp':False}\n",
    "    )\n",
    "\n",
    "delta_mle = res_unconstrain.x[1]\n",
    "pval = 1 - chi2.cdf(2*(res_constrain.fun - res_unconstrain.fun), 1)\n",
    "print('delta_mle', delta_mle)\n",
    "print('pvalue:', pval)"
   ]
  },
  {
   "cell_type": "markdown",
   "metadata": {},
   "source": [
    "There we go! Now the p-value is significant. See the full results for this gene. (I also managed to fix a dimenstion-unmatched bug in the likelihood optimization function..)"
   ]
  },
  {
   "cell_type": "code",
   "execution_count": 11,
   "metadata": {},
   "outputs": [
    {
     "name": "stdout",
     "output_type": "stream",
     "text": [
      "chr2\t180031687\t180031737\tENSMUSG00000039108-1\t1000\t+\t1.42\t2.243e-03\t8.972e-03\t.\n",
      "chr2\t180032487\t180032537\tENSMUSG00000039108-2\t1000\t+\t0.31\t5.585e-01\t7.447e-01\t.\n",
      "chr2\t180034937\t180034987\tENSMUSG00000039108-3\t1000\t+\t1.10\t1.688e-02\t3.377e-02\t.\n",
      "\n"
     ]
    }
   ],
   "source": [
    "# run statistical model with multiple SMInput\n",
    "BED = call_gene_peak(bam_dict, gene, \n",
    "    unique_only=unique_only, with_control=with_control, \n",
    "    unstranded=unstranded, binsize=binsize, qval_cutoff=0.99, fold_change=fold_change)\n",
    "print(BED)"
   ]
  },
  {
   "cell_type": "markdown",
   "metadata": {},
   "source": [
    "## Integrating multiple IP and Input samples\n",
    "\n",
    "We can also incorporate all CLIP IP samples, to make the peak-calling statistically more powerful (i.e. more significant peak p-values) and reduce bogus peaks."
   ]
  },
  {
   "cell_type": "code",
   "execution_count": 17,
   "metadata": {},
   "outputs": [
    {
     "name": "stdout",
     "output_type": "stream",
     "text": [
      ">>> replicate model\n",
      "chr2\t180031687\t180031737\tENSMUSG00000039108-1\t1000\t+\t1.48\t3.536e-05\t4.597e-04\t.\n",
      "\n",
      "\n",
      ">>> pooling model\n",
      "chr2\t180031687\t180031737\tENSMUSG00000039108-1\t1000\t+\t3.26\t4.089e-06\t5.725e-05\t.\n",
      "chr2\t180034937\t180034987\tENSMUSG00000039108-2\t1000\t+\t1.92\t5.099e-03\t2.380e-02\t.\n",
      "chr2\t180034987\t180035037\tENSMUSG00000039108-3\t1000\t+\t2.03\t2.881e-03\t2.017e-02\t.\n",
      "\n",
      "\n"
     ]
    }
   ],
   "source": [
    "ip_bam_list = [\n",
    "    ','.join([\n",
    "        par_dir+'projects/ESRP1_mm10_GI/clam/I917_FLAGCLIP/unique.sorted.bam',\n",
    "        par_dir+'projects/ESRP1_mm10_GI/clam/I920_FLAGCLIP/unique.sorted.bam',\n",
    "        par_dir+'projects/ESRP1_mm10_GI/clam/I921_FLAGCLIP/unique.sorted.bam',\n",
    "        par_dir+'projects/ESRP1_mm10_GI/clam/I922_FLAGCLIP/unique.sorted.bam',\n",
    "        par_dir+'projects/ESRP1_mm10_GI/clam/I923_FLAGCLIP/unique.sorted.bam',\n",
    "        par_dir+'projects/ESRP1_mm10_GI/clam/I924_FLAGCLIP/unique.sorted.bam',\n",
    "        par_dir+'projects/ESRP1_mm10_GI/clam/I925_FLAGCLIP/unique.sorted.bam',\n",
    "        par_dir+'projects/ESRP1_mm10_GI/clam/Combo_Urea_CLIP/unique.sorted.bam',\n",
    "        ])\n",
    "    ]\n",
    "con_bam_list = [\n",
    "    ','.join([\n",
    "        par_dir+'projects/ESRP1_mm10_GI/clam/I925_Input/unique.sorted.bam',\n",
    "        par_dir+'projects/ESRP1_mm10_GI/clam/I922_Input/unique.sorted.bam',\n",
    "        par_dir+'projects/ESRP1_mm10_GI/clam/I920_Input/unique.sorted.bam',\n",
    "        par_dir+'projects/ESRP1_mm10_GI/clam/Combo_Urea_Input/unique.sorted.bam',\n",
    "        ])\n",
    "    ]\n",
    "\n",
    "# open new file handlers in a dict\n",
    "bam_dict = make_bam_handler_dict(ip_bam_list, con_bam_list)\n",
    "\n",
    "# re-run analysis; replicate model\n",
    "BED = call_gene_peak(bam_dict, gene, \n",
    "    unique_only=unique_only, with_control=with_control, \n",
    "    unstranded=unstranded, binsize=binsize, qval_cutoff=0.05, fold_change=fold_change,\n",
    "    min_clip_cov=4, pool=False)\n",
    "print(\">>> replicate model\")\n",
    "print(BED)\n",
    "print('')\n",
    "\n",
    "# re-run analysis; pool model\n",
    "BED = call_gene_peak(bam_dict, gene, \n",
    "    unique_only=unique_only, with_control=with_control, \n",
    "    unstranded=unstranded, binsize=binsize, qval_cutoff=0.05, fold_change=fold_change,\n",
    "    min_clip_cov=4, pool=True)\n",
    "print(\">>> pooling model\")\n",
    "print(BED)\n",
    "print('')"
   ]
  },
  {
   "cell_type": "markdown",
   "metadata": {},
   "source": [
    "## Conclusion\n",
    "\n",
    "Through this notebook, I have learned:\n",
    "- confirmed the expected behaviour for CLAM.peakcaller;\n",
    "- identified potential drop-out issue with eCLIP SMInput;\n",
    "- use multiple replicates to partially resolve the drop-out issue;\n",
    "- CLAM replicate model is more conservative than pooling when replicates are heterogeneous (large within group variance), a behaviour similar to other replicate models (e.g. [DARTS](https://github.com/zj-zhang/DARTS-BleedingEdge) replicate model);\n",
    "- update CLAM to v1.1.3, see [here](https://github.com/zj-zhang/CLAM-BleedingEdge).\n",
    "\n"
   ]
  }
 ],
 "metadata": {
  "kernelspec": {
   "display_name": "Python 2",
   "language": "python",
   "name": "python2"
  },
  "language_info": {
   "codemirror_mode": {
    "name": "ipython",
    "version": 2
   },
   "file_extension": ".py",
   "mimetype": "text/x-python",
   "name": "python",
   "nbconvert_exporter": "python",
   "pygments_lexer": "ipython2",
   "version": "2.7.14"
  }
 },
 "nbformat": 4,
 "nbformat_minor": 2
}
